{
 "cells": [
  {
   "cell_type": "code",
   "execution_count": null,
   "metadata": {},
   "outputs": [],
   "source": [
    "import matplotlib.pyplot as plt\n",
    "import numpy as np\n",
    "# Données expérimentales\n",
    "x = [10.0, 7.5, 5.0, 2.5, 1.0] # Ci en mmol/L\n",
    "y = [5.88, 4.41, 2.94, 1.47, 0.59] # G en mS\n",
    "# Affichage\n",
    "plt.title(\"Courbe d\\'étalonnage G=f(C)\")\n",
    "plt.xlabel(\"C (mmol/L)\")\n",
    "plt.ylabel(\"G (mS)\")\n",
    "plt.plot(x, y, \"bo\",label=\"points expérimentaux\")\n",
    "plt.axis(xmin=0,xmax=10,ymin=0, ymax=6)\n",
    "plt.grid(linestyle=\"-.\")\n",
    "plt.xticks(range(11))\n",
    "# Modelisation fonction linéaire\n",
    "modele=np.polyfit(x,y,1)\n",
    "xm = np.linspace(0, 10, 10)\n",
    "ym = modele[0]*xm + modele[1]\n",
    "plt.plot(xm, ym, \"r-\", label=\"modèle y=\"+str(round(modele[0],3))+r\"$\\times x_m + $\"+str(round(modele[1],3)))\n",
    "print(\"Coefficient directeur du modèle \" + str(round(modele[0],3)))\n",
    "print(\"Ordonnée à l'origine du modèle \" + str(round(modele[1],3)))\n",
    "plt.legend()\n",
    "plt.show()"
   ]
  }
 ],
 "metadata": {
  "kernelspec": {
   "display_name": "Python 3",
   "language": "python",
   "name": "python3"
  },
  "language_info": {
   "codemirror_mode": {
    "name": "ipython",
    "version": 3
   },
   "file_extension": ".py",
   "mimetype": "text/x-python",
   "name": "python",
   "nbconvert_exporter": "python",
   "pygments_lexer": "ipython3",
   "version": "3.7.3"
  }
 },
 "nbformat": 4,
 "nbformat_minor": 2
}
