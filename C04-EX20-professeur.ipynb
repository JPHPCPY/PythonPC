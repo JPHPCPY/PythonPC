{
 "cells": [
  {
   "cell_type": "code",
   "execution_count": null,
   "metadata": {},
   "outputs": [],
   "source": [
    "import matplotlib.pyplot as plt\n",
    "import numpy as np\n",
    "\n",
    "# Compléter les listes suivantes et les décommenter\n",
    "t = [0,200,400,600,800,1000,2000]\n",
    "C = [200,100,50,25,12.5,6.3,3.1]\n",
    "\n",
    "\n",
    "###################################################\n",
    "# calcul des vitesses\n",
    "###################################################\n",
    "vd = []\n",
    "for i in range (len(t)-1) :\n",
    "    vd=vd+[abs((C[i+1]-C[i])/(t[i+1]-t[i]))]\n",
    "\n",
    "\n",
    "Cmax=max(C)\n",
    "tmax=max(t)\n",
    "vdmax=max(vd)\n",
    "C2max=max(C)\n",
    "###################################################\n",
    "### Représentation graphique\n",
    "###################################################\n",
    "\n",
    "#sous-figure 1 - Graphique donnant l'évolution de la concentration en fonction du temps\n",
    "plt.figure(figsize=(16,8))\n",
    "plt.subplot(221)\n",
    "plt.grid()\n",
    "plt.title(\"Évolution de la concentration en fonction du temps\")\n",
    "plt.xlim(0,1.15*tmax)\n",
    "plt.ylim(0,1.15*Cmax)\n",
    "plt.scatter(t,C)        # permet d'afficher un nuage de points, la fonction plt.plot les affiches reliés\n",
    "plt.xlabel(\"Temps (min)\")\n",
    "plt.ylabel(\"Concentration ($\\mathrm{mmol \\cdot L^{-1}}$)\")\n",
    "\n",
    "#sous-figure 2- Graphique donnant l'évolution de la vitesse de disparition en fonction du temps\n",
    "plt.subplot(222)\n",
    "C2=list(C)\n",
    "del C2[-1]\n",
    "plt.grid()\n",
    "plt.title(\"Évolution de la vitesse de disparition en fonction de la concentration\")\n",
    "plt.xlim(0,1.15*C2max)\n",
    "plt.ylim(0,1.15*vdmax)\n",
    "plt.scatter(C2,vd,color='orange')\n",
    "plt.ylabel(\"Vitesse ($\\mathrm{mmol\\cdot L^{-1} \\cdot min^{-1}}$)\")\n",
    "plt.xlabel(\"Concentration ($\\mathrm{mmol\\cdot L^{-1}}$)\")\n",
    "\n",
    "plt.subplot(212, frameon=False)\n",
    "plt.xticks([])\n",
    "plt.yticks([])\n",
    "for i in range (len(t)-1) :\n",
    "    plt.text(0.1,((len(t)-1)-i)/len(t),\"La vitesse de disparition à \"+ str(t[i]) +\" min est v(\"+str(t[i])+\")=\"+ str(round(vd[i],3)) +\" $\\mathrm{mmol\\cdot L^{-1} \\cdot min^{-1}}$\",fontsize = 16 )\n",
    "\n",
    "\n",
    "plt.show()"
   ]
  },
  {
   "cell_type": "code",
   "execution_count": null,
   "metadata": {},
   "outputs": [],
   "source": []
  }
 ],
 "metadata": {
  "kernelspec": {
   "display_name": "Python 3",
   "language": "python",
   "name": "python3"
  },
  "language_info": {
   "codemirror_mode": {
    "name": "ipython",
    "version": 3
   },
   "file_extension": ".py",
   "mimetype": "text/x-python",
   "name": "python",
   "nbconvert_exporter": "python",
   "pygments_lexer": "ipython3",
   "version": "3.7.3"
  }
 },
 "nbformat": 4,
 "nbformat_minor": 2
}
