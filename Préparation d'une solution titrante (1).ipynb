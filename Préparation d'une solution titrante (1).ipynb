{
 "cells": [
  {
   "cell_type": "code",
   "execution_count": 1,
   "metadata": {},
   "outputs": [
    {
     "name": "stdout",
     "output_type": "stream",
     "text": [
      "Programme permettant de préparer une solution titrante à partir d'une solution commerciale\n",
      "Quelle est la densité de la solution commerciale ?\n",
      "d =1.05\n",
      "Indique maintenant la masse molaire en g/mol\n",
      "M=34\n",
      "Indique le pourcentage massique en %\n",
      "Pm=23\n",
      "Indique le volume de solution à préparer en mL\n",
      "Vf=100\n",
      "Indique la concentration de la solution à préparer en mol/L\n",
      "cf=0.1\n",
      "Tu te charges d'ajuster le nombre de chiffres significatifs\n",
      "La concentration de la solution commerciale est  7.102941176470588 mol/l\n",
      "Le facteur de dilution est  71.02941176470587\n",
      "le volume à prélever est 1.4078674948240166 mL\n",
      "il faut donc préléver 1.4078674948240166 mL avec une pipette jaugée de préférence à  introduire dans une fiole jaugée de  100.0 mL\n",
      " Maintenant tu peux préparer la solution en tenant des consignes de sécurité\n"
     ]
    }
   ],
   "source": [
    "from math import*\n",
    "print (\"Programme permettant de préparer une solution titrante à partir d'une solution commerciale\")\n",
    "print( \"Quelle est la densité de la solution commerciale ?\")\n",
    "d=float(input(\"d =\"))\n",
    "print(\"Indique maintenant la masse molaire en g/mol\")\n",
    "M=float(input(\"M=\"))\n",
    "print(\"Indique le pourcentage massique en %\")\n",
    "Pm=float(input(\"Pm=\"))\n",
    "print(\"Indique le volume de solution à préparer en mL\")\n",
    "Vf=float(input(\"Vf=\"))\n",
    "print(\"Indique la concentration de la solution à préparer en mol/L\")\n",
    "cf=float(input(\"cf=\"))\n",
    "cm =1000*d*Pm/(100*M)\n",
    "print ( \"Tu te charges d'ajuster le nombre de chiffres significatifs\")\n",
    "print(\"La concentration de la solution commerciale est \",cm,\"mol/L\")\n",
    "F=cm/cf\n",
    "print(\"Le facteur de dilution est \",F)\n",
    "Vm=cf*Vf/cm\n",
    "print(\"le volume à prélever est\",Vm,\"mL\")\n",
    "print(\"il faut donc préléver\",Vm,\"mL avec une pipette jaugée de préférence à  introduire dans une fiole jaugée de \",Vf,\"mL\")\n",
    "print(\" Maintenant tu peux préparer la solution en tenant des consignes de sécurité\")\n"
   ]
  },
  {
   "cell_type": "code",
   "execution_count": null,
   "metadata": {},
   "outputs": [],
   "source": []
  }
 ],
 "metadata": {
  "kernelspec": {
   "display_name": "Python 3",
   "language": "python",
   "name": "python3"
  },
  "language_info": {
   "codemirror_mode": {
    "name": "ipython",
    "version": 3
   },
   "file_extension": ".py",
   "mimetype": "text/x-python",
   "name": "python",
   "nbconvert_exporter": "python",
   "pygments_lexer": "ipython3",
   "version": "3.8.3"
  }
 },
 "nbformat": 4,
 "nbformat_minor": 4
}
