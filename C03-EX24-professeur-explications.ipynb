{
 "cells": [
  {
   "cell_type": "markdown",
   "metadata": {},
   "source": [
    "![Titre](C03.jpg)"
   ]
  },
  {
   "cell_type": "markdown",
   "metadata": {},
   "source": [
    "## <span style='color:#AC1620'> Explication du programme en langage Python</span>\n",
    "\n",
    "### <span style='color:#163538'> Exercice 24 p 68  : Traitement d'un effluent </span>\n",
    "\n",
    "**Pour faire fonctionner le programme à l'aide de Jupyter Notebook, il faut exécuter les cellules contenant du code les unes après les autres** \n",
    "\n",
    "La première étape consiste à importer :\n",
    "* le logarithme décimal *log10* de la bibliothèque <span style='color:red' > math </span> ;\n",
    "* la bibliothèque <span style='color:red' > matplotlib.pyplot </span> avec l'alias *plt*. Elle sert à réaliser le graphique ;\n",
    "* la bibliothèque <span style='color:red' > numpy </span> avec l'alias *np* . Elle est utile pour de nombreux outils mathématiques."
   ]
  },
  {
   "cell_type": "code",
   "execution_count": 18,
   "metadata": {},
   "outputs": [],
   "source": [
    "from math import log10\n",
    "### Bibliothèques importées\n",
    "import numpy as np\n",
    "import matplotlib.pyplot as plt"
   ]
  },
  {
   "cell_type": "markdown",
   "metadata": {},
   "source": [
    "On définit l'ensemble des constantes et variables utilisées dans ce programme :\n",
    "* *VE* est le volume versé à l'équivalence, exprimé en L. Il vaut $13 \\times 10^{-3}~ \\mathrm{L}$ ;\n",
    "* *Veff* est le volume d'effluent à traiter, exprimé en L. Il vaut $200~ \\mathrm{L}$ ; \n",
    "* *compteur* est un compter initialisé à 0, utilisé plus loin dans le programme."
   ]
  },
  {
   "cell_type": "code",
   "execution_count": 19,
   "metadata": {},
   "outputs": [],
   "source": [
    "### Définition des variables\n",
    "VE=13*0.001\n",
    "Veff=200    \n",
    "compteur=0    "
   ]
  },
  {
   "cell_type": "markdown",
   "metadata": {},
   "source": [
    "On calcule la quantité de matière initiale en ion hydroxyde présente dans l'effluent. D'après la réaction support du titrage : \n",
    "$$ n(\\mathrm{HO^-})=n(\\mathrm{H_3O^+})_E = Veff \\times \\frac{[\\mathrm{H_3O^+}] \\times VE}{V_0} $$\n",
    "où $V_0$ est le volume d'effluent pour le titrage conductimétrique en B. Ainsi : \n",
    "$$n(\\mathrm{HO^-})_{\\mathrm{initial}}= Veff \\times \\frac{5,0 \\times 10^{-2} \\times VE}{1,0 \\times 10^{-3}}$$"
   ]
  },
  {
   "cell_type": "code",
   "execution_count": 20,
   "metadata": {},
   "outputs": [],
   "source": [
    "nHOinitial=Veff*(0.05*VE/0.001)  "
   ]
  },
  {
   "cell_type": "markdown",
   "metadata": {},
   "source": [
    "On définit ensuite le volume maximal _Vmax_ à introduire. Il correspond à une quantité de matière en ion oxonium deux fois plus importante que la quantité de matière en ion hydroxyde. C'est une valeur entière qui est retenue. Ainsi : \n",
    "$$n(\\mathrm{H_3O^+})= 2 \\times n(\\mathrm{HO^-})_{\\mathrm{initial}} = [\\mathrm{H_3O^+}] \\times Vmax \\Rightarrow Vmax= \\frac{\\displaystyle 2 \\times n(\\mathrm{HO^-})_{\\mathrm{initial}}}{\\displaystyle [\\mathrm{H_3O^+}]}= \\frac{\\displaystyle 2 \\times n(\\mathrm{HO^-})_{\\mathrm{initial}}}{\\displaystyle 10}$$"
   ]
  },
  {
   "cell_type": "code",
   "execution_count": 21,
   "metadata": {},
   "outputs": [],
   "source": [
    "Vmax=int(2*(nHOinitial/10))"
   ]
  },
  {
   "cell_type": "markdown",
   "metadata": {},
   "source": [
    "On initialise les listes qui seront utiles :\n",
    "* _nOH_ correspond à la quantité de matière en ions hydroxyde ;\n",
    "* _nH_ correspond à la quantité de matière en ions oxonium ; \n",
    "* _pH_ est la liste qui rassemble les valeurs du pH ; \n",
    "* _V_ est la liste qui rassemble les volumes versés en solution d'acide chlorhydrique."
   ]
  },
  {
   "cell_type": "code",
   "execution_count": 22,
   "metadata": {},
   "outputs": [],
   "source": [
    "nHO, nH, pH, V = [nHOinitial], [0], [-log10(1E-14/(nHOinitial/Veff))], [0] "
   ]
  },
  {
   "cell_type": "markdown",
   "metadata": {},
   "source": [
    "On remplit alors les listes à l'aide du compteur _compteur_ qui correspond au volume versé en solution d'acide. Pour cela en rentre dans une boucle ``while`` qui tournera tant que le compteur est inférieur ou égal à _Vmax_.\n",
    "\n",
    "On initialise une variable _aux_ qui correspond à la quantité de matière en ions hydroxyde qu'il reste dans la solution d'effluent : \n",
    "$$aux = n(\\mathrm{HO^-})_{\\mathrm{initial}} - [\\mathrm{H_3O^+}] \\times V = nOHinitial - 10 \\times compteur$$.\n",
    "\n",
    "On rentre alors dans un boucle conditionnelle : \n",
    "* Si _aux_ est supérieure à 0, cela signifie que l'on est avant l'équivalence : \n",
    "    * La quantité de matière en ions hydroxyde est égale à _aux_. On complète la liste.\n",
    "    * La quantité de matière en ion oxonium est nulle.\n",
    "    * Le pH se déduit de la concentration en ion hydroxyde : \n",
    "    $$pH = - \\log \\left( \\frac{\\displaystyle \\mathrm{Ke}}{\\displaystyle [\\mathrm{HO^-}]} \\right) = - \\log \\left( \\frac{\\displaystyle \\mathrm{Ke}\\times (Veff+ V)}{\\displaystyle n(\\mathrm{HO^-})} \\right)= - \\log \\left( \\frac{\\displaystyle 1,0 \\times 10^{-14}\\times (Veff+ V)}{\\displaystyle aux} \\right) $$"
   ]
  },
  {
   "cell_type": "markdown",
   "metadata": {},
   "source": [
    "* Si la quantité d'ions oxonium versée est supérieur à la quantité initiale en ion hydroxyde _nOHinitial_, cela signifie que l'équivalence est dépassée : \n",
    "    * La quantité de matière en ions hydroxyde est nulle.\n",
    "    * La quantité de matière en ion oxonium vaut : \n",
    "    $$n(\\mathrm{H_3O^+}) = [\\mathrm{H_3O^+}] \\times V - n(\\mathrm{HO^-})_{\\mathrm{initial}} = 10 \\times compteur -  nOHinitial$$\n",
    "    * Le pH se déduit de la concentration en ions oxonium : \n",
    "    $$pH = - \\log \\left( [\\mathrm{H_3O^+}] \\right)=- \\log \\left( \\frac{\\displaystyle n(\\mathrm{H_3O^+}) }{\\displaystyle Veff + V} \\right)=- \\log \\left( \\frac{\\displaystyle n(\\mathrm{H_3O^+}) }{\\displaystyle Veff + compteur} \\right)  $$\n",
    "\n",
    "* Sinon, cela signifie que le volume correspond au volume équivalent le pH est alors égal à 7.\n",
    "    "
   ]
  },
  {
   "cell_type": "code",
   "execution_count": 23,
   "metadata": {},
   "outputs": [],
   "source": [
    "### Remplissage des listes\n",
    "while compteur <= Vmax :\n",
    "    compteur=compteur+1\n",
    "    aux=nHOinitial-10*compteur\n",
    "    if aux > 0 :\n",
    "        nHO.append(aux)\n",
    "        nH.append(0)\n",
    "        V.append(compteur)\n",
    "        pH.append(- log10(1E-14/(aux/(Veff+compteur))))   #expression du pH si on connaît [HO-]\n",
    "    elif 10*compteur-nHOinitial > 0 :\n",
    "        nHO.append(0)\n",
    "        nH.append(10*compteur-nHOinitial)\n",
    "        V.append(compteur)\n",
    "        pH.append(- log10(nH[compteur]/(Veff+compteur)))\n",
    "    else :\n",
    "        nHO.append(0)\n",
    "        nH.append(0)\n",
    "        V.append(compteur)\n",
    "        pH.append(7)"
   ]
  },
  {
   "cell_type": "markdown",
   "metadata": {},
   "source": [
    "On trace le graphique à l'aide des fonctions de la bibliothèque <span style='color:red' > matplotlib.pyplot </span>.\n",
    "\n",
    "On crée une figure de 1600 pixels de large sur 800 pixels de haut à l'aide de la commande (``plt.figure(figsize=(16,8))``)\n",
    "On crée deux sous-figures à l'aide de la commande ``plt.subplot()``.\n",
    "\n",
    "Pour chaque sous-figure : \n",
    "* ``plt.plot(x,y,args)`` permet de tracer la courbe souhaitée;\n",
    "* ``plt.legend()`` permet d'insérer sur le graphique une légende pour chacune des courbes ;\n",
    "* ``plt.ylim()`` permet de fixer les limites de l'axe des ordonnées ;\n",
    "* ``plt.xlabel()`` permet d'ajouter un titre à l'axe des abscisses ;\n",
    "* ``plt.ylabel()`` permet d'ajouter un titre à l'axe des ordonnées.\n",
    "\n",
    "Enfin,  ``plt.show()`` permet d'afficher le graphique ainsi obtenu."
   ]
  },
  {
   "cell_type": "code",
   "execution_count": 26,
   "metadata": {},
   "outputs": [
    {
     "data": {
      "image/png": "[encoded data removed]",
      "text/plain": [
       "<Figure size 1152x576 with 2 Axes>"
      ]
     },
     "metadata": {
      "needs_background": "light"
     },
     "output_type": "display_data"
    }
   ],
   "source": [
    "### Affichage des graphiques\n",
    "plt.figure(figsize=(16,8))\n",
    "plt.subplot(121)\n",
    "plt.plot(V, nHO, 'bx-', label=\"$n(\\mathrm{HO^-})$ en mol\")\n",
    "plt.plot(V, nH, 'rx-', label=\"$n(\\mathrm{H_3O^+}) en mol\")\n",
    "plt.xlabel(\"volume en L\")\n",
    "plt.ylabel('$n$ (mol)')\n",
    "plt.legend()\n",
    "plt.subplot(122)\n",
    "plt.ylim(0,14) #définition des valeurs max et min des ordonnées\n",
    "plt.plot(V, pH, 'rx-', label=\"pH\")\n",
    "plt.xlabel(\"volume en L\")\n",
    "plt.ylabel('$pH$')\n",
    "plt.legend()\n",
    "plt.show()"
   ]
  }
 ],
 "metadata": {
  "kernelspec": {
   "display_name": "Python 3",
   "language": "python",
   "name": "python3"
  },
  "language_info": {
   "codemirror_mode": {
    "name": "ipython",
    "version": 3
   },
   "file_extension": ".py",
   "mimetype": "text/x-python",
   "name": "python",
   "nbconvert_exporter": "python",
   "pygments_lexer": "ipython3",
   "version": "3.7.3"
  }
 },
 "nbformat": 4,
 "nbformat_minor": 2
}
