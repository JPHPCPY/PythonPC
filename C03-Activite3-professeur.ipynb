{
 "cells": [
  {
   "cell_type": "code",
   "execution_count": null,
   "metadata": {},
   "outputs": [],
   "source": [
    "import matplotlib.pyplot as plt\n",
    "import numpy as np\n",
    "\n",
    "def calcul_quantites_avant_et_a_equivalence(i):\n",
    "    V.append(i)\n",
    "    n_AH.append((0.145*10-0.10*i)*0.001)\n",
    "    n_HO.append(0)\n",
    "    n_Na.append(0.10*i*0.001)\n",
    "    n_A.append(0.10*i*0.001)\n",
    "\n",
    "def calcul_quantites_apres_equivalence(i) :\n",
    "     V.append(i)\n",
    "     n_AH.append(0)\n",
    "     n_HO.append((0.10*i-0.145*10)*0.001)\n",
    "     n_Na.append(0.10*i*0.001)\n",
    "     n_A.append(0.00145)\n",
    "\n",
    "VE = 14.5  #saisie du volume équivalent en mL\n",
    "Veau = 200 #saisie du volume d’eau ajouté en mL\n",
    "n_AH, n_HO, n_Na, n_A, V = [], [], [], [], [] # initialisation de 5 listes\n",
    "for i in range(0,26,1) :\n",
    "    if i <= VE :\n",
    "        #appelle une fonction qui calcule les quantités avant et à l’équivalence\n",
    "        calcul_quantites_avant_et_a_equivalence(i)\n",
    "    else :\n",
    "        #appelle une fonction qui calcule les quantités après l’équivalence\n",
    "        calcul_quantites_apres_equivalence(i)\n",
    "# Expression de la conductivité\n",
    "Conduct = (20*np.array(n_HO)+5.0*np.array(n_Na)+4.1*np.array(n_A))/(Veau*1E-3+1E-3*np.array(V)+0.010)\n",
    "# affichage des courbes\n",
    "plt.subplot(121) # subplot permet d’afﬁcher deux graphes\n",
    "plt.plot(V, n_AH,'bx-', linewidth=0.5, label=\"n_AH\")\n",
    "plt.plot(V, n_HO, 'rx-', label=\"n_HO\")\n",
    "plt.plot(V, n_Na, 'mx-', label=\"n_Na\")\n",
    "plt.plot(V, n_A, 'gx-', label=\"n_A\")\n",
    "plt.legend()\n",
    "plt.subplot(122)\n",
    "plt.scatter(V, Conduct, label=\"Conductivité en $\\mathrm{mS\\cdot m^{-1}}$\")\n",
    "plt.legend()\n",
    "plt.show()"
   ]
  }
 ],
 "metadata": {
  "kernelspec": {
   "display_name": "Python 3",
   "language": "python",
   "name": "python3"
  },
  "language_info": {
   "codemirror_mode": {
    "name": "ipython",
    "version": 3
   },
   "file_extension": ".py",
   "mimetype": "text/x-python",
   "name": "python",
   "nbconvert_exporter": "python",
   "pygments_lexer": "ipython3",
   "version": "3.7.3"
  }
 },
 "nbformat": 4,
 "nbformat_minor": 2
}
